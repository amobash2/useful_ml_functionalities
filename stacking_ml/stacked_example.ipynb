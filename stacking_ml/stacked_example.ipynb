{
 "cells": [
  {
   "cell_type": "markdown",
   "metadata": {},
   "source": [
    "## Stacking ML models "
   ]
  },
  {
   "cell_type": "markdown",
   "metadata": {},
   "source": [
    "In this notebook, we share an example of stacking classification models. The goal is to utilize three ML algorithms as base-learners and one ML algorithm for meta-learner.\n",
    "\n",
    "In the first scenario, we only utlize sklearn models and use a logistic regression model as the meta-learner. We will note the accuracy (selected performance metric) of this approach.\n",
    "Next, we utilize a torch model for meta-learner and note some improvement over utilizing logistic regression as the meta-learner.\n",
    "\n",
    "Please note that we are not fully optimizing parameters of the models and this notebook is created for the sake of demonstration and showing that stacking can be useful to improve performance of the models.\n",
    "\n",
    "First, let's import the necessary packages (Python version >= 3.11). "
   ]
  },
  {
   "cell_type": "code",
   "execution_count": 1,
   "metadata": {},
   "outputs": [],
   "source": [
    "import numpy as np # 1.26.2\n",
    "from sklearn.datasets import make_classification # sklearn.__version__ == 1.3.0\n",
    "from sklearn.model_selection import train_test_split\n",
    "from sklearn.ensemble import StackingClassifier\n",
    "from sklearn.ensemble import RandomForestClassifier\n",
    "from sklearn.linear_model import LogisticRegression\n",
    "from sklearn.svm import SVC\n",
    "from sklearn.pipeline import make_pipeline\n",
    "from sklearn.preprocessing import StandardScaler\n",
    "from sklearn.metrics import accuracy_score\n",
    "import torch # 2.0.0+cpu\n",
    "import torch.nn as nn\n",
    "import torch.optim as optim\n",
    "from matplotlib.pylab import plt # 3.7.2\n",
    "%matplotlib inline"
   ]
  },
  {
   "cell_type": "code",
   "execution_count": 2,
   "metadata": {},
   "outputs": [],
   "source": [
    "# Defining few global variables\n",
    "RANDOM_STATE = 1234\n",
    "TEST_SIZE = 0.2\n",
    "NEURAL_NETWORK_LAYER_SIZES = [100, 50]\n",
    "NUMBER_EPOCH = 500\n",
    "LEARNING_RATE = 0.001"
   ]
  },
  {
   "cell_type": "code",
   "execution_count": 3,
   "metadata": {},
   "outputs": [],
   "source": [
    "# Generate some synthetic data for a classification task\n",
    "X, y = make_classification(n_samples=10000, n_features=50, n_informative=20, n_classes=2, random_state=RANDOM_STATE)"
   ]
  },
  {
   "cell_type": "code",
   "execution_count": 4,
   "metadata": {},
   "outputs": [],
   "source": [
    "# Split data into train and test sets\n",
    "# For simplicity, we are not validating the models in this notebook and hence to X_val & y_val are populated.\n",
    "X_train, X_test, y_train, y_test = train_test_split(X, y, test_size=TEST_SIZE, random_state=RANDOM_STATE)"
   ]
  },
  {
   "cell_type": "code",
   "execution_count": 5,
   "metadata": {},
   "outputs": [],
   "source": [
    "# Initialize three base learners, all sklearn models\n",
    "rf = RandomForestClassifier(n_estimators=100, random_state=RANDOM_STATE)\n",
    "lr = LogisticRegression(random_state=RANDOM_STATE)\n",
    "svm = SVC(kernel='linear', probability=True, random_state=RANDOM_STATE)\n",
    "\n",
    "# Create a list of base learners and standardize data for LR and SVM models\n",
    "base_learners = [('Random Forest', rf),\n",
    "                 ('Logistic Regression', make_pipeline(StandardScaler(), lr)),\n",
    "                 ('SVM', make_pipeline(StandardScaler(), svm))]"
   ]
  },
  {
   "cell_type": "markdown",
   "metadata": {},
   "source": [
    "### Utilizing a sklearn model as meta-learner"
   ]
  },
  {
   "cell_type": "markdown",
   "metadata": {},
   "source": [
    "The next cell may take a few minutes to finish. Please note while stacking can help with performance improvement, it generally results in slower training and inference phases."
   ]
  },
  {
   "cell_type": "code",
   "execution_count": 6,
   "metadata": {},
   "outputs": [
    {
     "name": "stdout",
     "output_type": "stream",
     "text": [
      "Accuracy of the three stacked models with a logistic regression model as a meta-learner: 0.921\n"
     ]
    }
   ],
   "source": [
    "lr_meta_learner_model = StackingClassifier(estimators=base_learners, final_estimator=LogisticRegression(random_state=42))\n",
    "\n",
    "lr_meta_learner_model.fit(X_train, y_train)\n",
    "lr_meta_learner_accuracy = lr_meta_learner_model.score(X_test, y_test) # We can also use accuracy_score function, by default .score function calculates accuracy\n",
    "print(f\"Accuracy of the three stacked models with a logistic regression model as a meta-learner: {lr_meta_learner_accuracy:.3f}\")"
   ]
  },
  {
   "cell_type": "markdown",
   "metadata": {},
   "source": [
    "### Utilizing a neural network as meta-learner"
   ]
  },
  {
   "cell_type": "code",
   "execution_count": 7,
   "metadata": {},
   "outputs": [],
   "source": [
    "# Initialize a neural network as the meta-learner using Torch given a list of layer sizes\n",
    "class NeuralNetwork(nn.Module):\n",
    "    def __init__(self, input_size, layer_sizes = NEURAL_NETWORK_LAYER_SIZES):\n",
    "        super(NeuralNetwork, self).__init__()\n",
    "        layer_dims = [input_size] + layer_sizes # Adding input_size as the first layer\n",
    "        layers = []\n",
    "        \n",
    "        # Create fully connected layers\n",
    "        for i in range(len(layer_dims) - 1):\n",
    "            layers.append(nn.Linear(layer_dims[i], layer_dims[i + 1]))\n",
    "            layers.append(nn.ReLU())\n",
    "\n",
    "        # Adding the output layer for this classification task\n",
    "        layers.append(nn.Linear(layer_dims[-1], 2)) \n",
    "\n",
    "        self.model = nn.Sequential(*layers)\n",
    "\n",
    "    def forward(self, x):\n",
    "        return self.model(x)"
   ]
  },
  {
   "cell_type": "code",
   "execution_count": 8,
   "metadata": {},
   "outputs": [],
   "source": [
    "# Get predictions from base learners for the new torch meta-learner\n",
    "base_learner_predictions_train = np.array([learner.fit(X_train, y_train).predict(X_train) for _, learner in base_learners]).T"
   ]
  },
  {
   "cell_type": "code",
   "execution_count": 9,
   "metadata": {},
   "outputs": [
    {
     "name": "stdout",
     "output_type": "stream",
     "text": [
      "X_train shape:  (8000, 50)\n",
      "X_train_for_meta shape:  (8000, 53)\n"
     ]
    }
   ],
   "source": [
    "# Combine base learner predictions with original features\n",
    "X_train_for_meta = np.hstack((X_train, base_learner_predictions_train))\n",
    "\n",
    "# Confirming shape of X_train and X_train for the meta-learner\n",
    "print(\"X_train shape: \", X_train.shape)\n",
    "print(\"X_train_for_meta shape: \", X_train_for_meta.shape) # We expect to see 3 more features from base learner models\n",
    "\n",
    "# Convert stacked features to PyTorch tensor\n",
    "X_train_for_meta_torch = torch.tensor(X_train_for_meta, dtype=torch.float32)\n",
    "y_train_for_meta_torch = torch.tensor(y_train, dtype=torch.long)"
   ]
  },
  {
   "cell_type": "code",
   "execution_count": 10,
   "metadata": {},
   "outputs": [],
   "source": [
    "# Get predictions from base learners for the test set for the new torch meta-learner\n",
    "base_learner_predictions_test = np.array([learner.predict(X_test) for _, learner in base_learners]).T"
   ]
  },
  {
   "cell_type": "code",
   "execution_count": 11,
   "metadata": {},
   "outputs": [
    {
     "name": "stdout",
     "output_type": "stream",
     "text": [
      "X_test shape:  (2000, 50)\n",
      "X_test_for_meta shape:  (2000, 53)\n"
     ]
    }
   ],
   "source": [
    "# Combine test set predictions with original features\n",
    "X_test_for_meta = np.hstack((X_test, base_learner_predictions_test))\n",
    "\n",
    "# Confirming shape of X_test and X_test for the meta-learner\n",
    "print(\"X_test shape: \", X_test.shape)\n",
    "print(\"X_test_for_meta shape: \", X_test_for_meta.shape) # We expect to see 3 more features from base learner models\n",
    "\n",
    "# Convert stacked test set features to PyTorch tensor\n",
    "X_test_for_meta_torch = torch.tensor(X_test_for_meta, dtype=torch.float32)\n",
    "y_test_for_meta_torch = torch.tensor(y_test, dtype=torch.long)"
   ]
  },
  {
   "cell_type": "markdown",
   "metadata": {},
   "source": [
    "The next cell may also take a few minutes depending on the number of epochs, data size and other parameters."
   ]
  },
  {
   "cell_type": "code",
   "execution_count": 12,
   "metadata": {},
   "outputs": [
    {
     "name": "stdout",
     "output_type": "stream",
     "text": [
      "Epoch #  0 | loss :  0.75692\n",
      "Epoch #  100 | loss :  0.03\n",
      "Epoch #  200 | loss :  0.00252\n",
      "Epoch #  300 | loss :  0.00061\n",
      "Epoch #  400 | loss :  0.0003\n"
     ]
    }
   ],
   "source": [
    "# Instantiate the neural network\n",
    "input_size = X_train_for_meta.shape[1]\n",
    "torch_model = NeuralNetwork(input_size, layer_sizes=NEURAL_NETWORK_LAYER_SIZES)\n",
    "\n",
    "# Define loss function and optimizer for the neural network\n",
    "criterion = nn.CrossEntropyLoss()\n",
    "optimizer = optim.Adam(torch_model.parameters(), lr=LEARNING_RATE)\n",
    "\n",
    "# Training the neural network (meta-learner)\n",
    "# For simplicity, we are not utilizing batch sizes, batch normalization or don't optimize for optimizer or learning rate\n",
    "epochs = NUMBER_EPOCH\n",
    "losses = []\n",
    "for epoch in range(epochs):\n",
    "    optimizer.zero_grad()\n",
    "    outputs = torch_model(X_train_for_meta_torch)\n",
    "    loss = criterion(outputs, y_train_for_meta_torch)\n",
    "    losses.append(loss.item())\n",
    "    if epoch%100 == 0:\n",
    "        print(\"Epoch # \", epoch, \"| loss : \", round(loss.item(), 5))\n",
    "    loss.backward()\n",
    "    optimizer.step()"
   ]
  },
  {
   "cell_type": "code",
   "execution_count": 13,
   "metadata": {},
   "outputs": [
    {
     "data": {
      "image/png": "[encoded data removed]",
      "text/plain": [
       "<Figure size 640x480 with 1 Axes>"
      ]
     },
     "metadata": {},
     "output_type": "display_data"
    }
   ],
   "source": [
    "plt.plot(range(epochs), losses)\n",
    "plt.title(\"Training losses\")\n",
    "plt.xlabel(\"Epoch\")\n",
    "plt.ylabel(\"Loss\")\n",
    "plt.show()"
   ]
  },
  {
   "cell_type": "code",
   "execution_count": 14,
   "metadata": {},
   "outputs": [],
   "source": [
    "# Make predictions using the meta-learner\n",
    "with torch.no_grad():\n",
    "    torch_model.eval()\n",
    "    outputs = torch_model(X_test_for_meta_torch)\n",
    "    _, predicted = torch.max(outputs, 1)"
   ]
  },
  {
   "cell_type": "code",
   "execution_count": 15,
   "metadata": {},
   "outputs": [
    {
     "name": "stdout",
     "output_type": "stream",
     "text": [
      "Accuracy of the stacked model with neural network meta-learner: 0.940\n"
     ]
    }
   ],
   "source": [
    "# Calculate accuracy of the stacked model\n",
    "torch_meta_learner_accuracy = accuracy_score(y_test, predicted.numpy())\n",
    "print(f\"Accuracy of the stacked model with neural network meta-learner: {torch_meta_learner_accuracy:.3f}\")"
   ]
  }
 ],
 "metadata": {
  "interpreter": {
   "hash": "b3ba2566441a7c06988d0923437866b63cedc61552a5af99d1f4fb67d367b25f"
  },
  "kernelspec": {
   "display_name": "Python 3.11.5 ('base')",
   "language": "python",
   "name": "python3"
  },
  "language_info": {
   "codemirror_mode": {
    "name": "ipython",
    "version": 3
   },
   "file_extension": ".py",
   "mimetype": "text/x-python",
   "name": "python",
   "nbconvert_exporter": "python",
   "pygments_lexer": "ipython3",
   "version": "3.11.5"
  },
  "orig_nbformat": 4
 },
 "nbformat": 4,
 "nbformat_minor": 2
}
